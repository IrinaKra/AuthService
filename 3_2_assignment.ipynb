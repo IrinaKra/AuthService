{
  "cells": [
    {
      "cell_type": "markdown",
      "metadata": {
        "id": "view-in-github",
        "colab_type": "text"
      },
      "source": [
        "<a href=\"https://colab.research.google.com/github/IrinaKra/AuthService/blob/master/3_2_assignment.ipynb\" target=\"_parent\"><img src=\"https://colab.research.google.com/assets/colab-badge.svg\" alt=\"Open In Colab\"/></a>"
      ]
    },
    {
      "cell_type": "markdown",
      "metadata": {
        "id": "-89_Z_je0cfL"
      },
      "source": [
        "# Assignment 3.2\n",
        "\n",
        "> Replace all TODOs with your code.\n",
        ">\n",
        "> Do not change any other code and do not add/remove cells!"
      ]
    },
    {
      "cell_type": "markdown",
      "metadata": {
        "id": "w6E-GxTB0j4M"
      },
      "source": [
        "## Lists"
      ]
    },
    {
      "cell_type": "markdown",
      "metadata": {
        "id": "iEwuf_DP0cfM"
      },
      "source": [
        "### Task 1\n",
        "\n",
        "Let's recall the function `find_primes` from the previous assignment. Now, instead of printing the primes, let's append them to a list and return this list. Use for-loop for that.\n",
        "\n",
        "Function `is_prime` is given for your convenience."
      ]
    },
    {
      "cell_type": "code",
      "source": [
        "def is_prime(num):\n",
        "    if num == 1:\n",
        "        return False\n",
        "    if num <= 3:\n",
        "        return True\n",
        "\n",
        "    for d in range(2, int(num ** 0.5)+1):\n",
        "        if num % d == 0:\n",
        "            return False\n",
        "\n",
        "    return True"
      ],
      "metadata": {
        "id": "oHqrVITz6Hy9"
      },
      "execution_count": null,
      "outputs": []
    },
    {
      "cell_type": "code",
      "execution_count": null,
      "metadata": {
        "id": "IWVOCWxx0cfM",
        "tags": [
          "task_1"
        ],
        "colab": {
          "base_uri": "https://localhost:8080/"
        },
        "outputId": "09c06f07-8d9d-45bb-e2e5-d8e6bb20d859"
      },
      "outputs": [
        {
          "output_type": "stream",
          "name": "stdout",
          "text": [
            "[2, 3, 5, 7, 11]\n"
          ]
        }
      ],
      "source": [
        "def find_primes(a, b):\n",
        "    primes_list = []\n",
        "    for i in range(a, b + 1):\n",
        "        if i < 2:\n",
        "            continue\n",
        "        is_prime = True\n",
        "        for d in range(2, int(i**0.5) + 1):\n",
        "            if i % d == 0:\n",
        "                is_prime = False\n",
        "                break\n",
        "        if is_prime:\n",
        "            primes_list.append(i)\n",
        "    return primes_list\n",
        "\n",
        "print(find_primes(1, 11))  # should print [2, 3, 5, 7, 11]"
      ]
    },
    {
      "cell_type": "markdown",
      "metadata": {
        "id": "2z8HqsaK0cfN"
      },
      "source": [
        "### Task 2\n",
        "\n",
        "Everything's the same as in the previous task, but now use list comprehension instead of the for-loop to implement function `find_primes_2`.\n"
      ]
    },
    {
      "cell_type": "code",
      "execution_count": null,
      "metadata": {
        "id": "kva_9ycA0cfN",
        "tags": [
          "task_2"
        ],
        "colab": {
          "base_uri": "https://localhost:8080/"
        },
        "outputId": "5090c31a-88d2-4663-cca1-8314bab5ea14"
      },
      "outputs": [
        {
          "output_type": "stream",
          "name": "stdout",
          "text": [
            "[2, 3, 5, 7, 11]\n"
          ]
        }
      ],
      "source": [
        "def is_prime(num):\n",
        "    if num <= 1:\n",
        "      return False\n",
        "    for i in range (2, int(num**0.5) + 1):\n",
        "      if num % i == 0:\n",
        "        return False\n",
        "    return True\n",
        "\n",
        "def find_primes_2(a, b):\n",
        "    primes_list_2 = [i for i in range(a, b + 1) if is_prime(i)]\n",
        "    return primes_list_2\n",
        "\n",
        "print(find_primes_2(1, 11))  # should print [2, 3, 5, 7, 11]"
      ]
    },
    {
      "cell_type": "markdown",
      "metadata": {
        "id": "IqjW7SGS0cfN"
      },
      "source": [
        "### Task 3\n",
        "\n",
        "Complete the slicing operator so that the resulting list contains only numbers on the odd indices of the original list."
      ]
    },
    {
      "cell_type": "code",
      "execution_count": null,
      "metadata": {
        "id": "p83RQvA40cfN",
        "tags": [
          "task_3"
        ],
        "colab": {
          "base_uri": "https://localhost:8080/"
        },
        "outputId": "d192499b-0dab-4d05-ef94-ebc00d050ff5"
      },
      "outputs": [
        {
          "output_type": "stream",
          "name": "stdout",
          "text": [
            "[1, 3, 5, 7, 9]\n"
          ]
        }
      ],
      "source": [
        "list_in = [0, 1, 2, 3, 4, 5, 6, 7, 8, 9, 10]\n",
        "\n",
        "list_out = list_in[1::2]\n",
        "\n",
        "print(list_out)  # should print [1, 3, 5, 7, 9]"
      ]
    },
    {
      "cell_type": "markdown",
      "metadata": {
        "id": "fceBNTpUnip6"
      },
      "source": [
        "### Task 4\n",
        "\n",
        "Sort the list `unsorted_list` in the following order: even numbers should go first, followed by odd numbers.\n",
        "\n",
        "Let's start by implementing the `is_even` function and then using sort."
      ]
    },
    {
      "cell_type": "code",
      "execution_count": null,
      "metadata": {
        "id": "VsoALrbBnsjs",
        "tags": [
          "task_4"
        ],
        "colab": {
          "base_uri": "https://localhost:8080/"
        },
        "outputId": "13f2094f-1348-4fbe-c8cc-5cca1c6de881"
      },
      "outputs": [
        {
          "output_type": "stream",
          "name": "stdout",
          "text": [
            "[2, 4, 6, 1, 3, 5, 7]\n"
          ]
        }
      ],
      "source": [
        "# TODO\n",
        "def is_even(num):\n",
        "    if num % 2 == 0:\n",
        "      return 0\n",
        "    else:\n",
        "      return 1\n",
        "\n",
        "unsorted_list = [1, 2, 3, 4, 5, 6, 7]\n",
        "\n",
        "sorted_list = unsorted_list.sort(key=is_even)\n",
        "\n",
        "print(unsorted_list)  # should print [2, 4, 6, 1, 3, 5, 7] or any other valid sorting"
      ]
    },
    {
      "cell_type": "markdown",
      "metadata": {
        "id": "lG5tPGor2ftj"
      },
      "source": [
        "### Task 5\n",
        "\n",
        "Everybody loves pixel art! What about you?\n",
        "\n",
        "You are given a terrain map where 0 means water and 1 means land. It is not a very user-friendly representation.\n",
        "Let's print the map to the console using a whitespace `' '` for water and `'X'` for land. Please also add a border with `-` for lines and `+` for corners.\n",
        "\n",
        "\n",
        "Do not assume the map to be always of size 4 by 4; it can be any rectangle."
      ]
    },
    {
      "cell_type": "code",
      "execution_count": null,
      "metadata": {
        "tags": [
          "task_5"
        ],
        "id": "tIdkmRfF2ftj",
        "colab": {
          "base_uri": "https://localhost:8080/"
        },
        "outputId": "83e36588-f976-4d44-d938-ad9d6bb7081a"
      },
      "outputs": [
        {
          "output_type": "stream",
          "name": "stdout",
          "text": [
            "+----+\n",
            "|  XX|\n",
            "|   X|\n",
            "| XXX|\n",
            "|XXXX|\n",
            "+----+\n"
          ]
        }
      ],
      "source": [
        "terrain_map = [\n",
        "    [0, 0, 1, 1],\n",
        "    [0, 0, 0, 1],\n",
        "    [0, 1, 1, 1],\n",
        "    [1, 1, 1, 1]\n",
        "]\n",
        "\n",
        "def print_mat(map:list) -> list:\n",
        "  column = len(map[0])\n",
        "  print('+' + '-'*column + '+')\n",
        "  for i in map:\n",
        "    print('|', end='')\n",
        "    for j in i:\n",
        "      if j == 0:\n",
        "        print(' ', end='')\n",
        "      elif j == 1:\n",
        "        print('X', end='')\n",
        "    print('|')\n",
        "  print('+' + '-'*column + '+')\n",
        "\n",
        "print_mat(terrain_map)\n",
        "\n",
        "# Your map should look something like this:\n",
        "# +----+\n",
        "# |  XX|\n",
        "# |   X|\n",
        "# | XXX|\n",
        "# |XXXX|\n",
        "# +----+"
      ]
    }
  ],
  "metadata": {
    "colab": {
      "provenance": [],
      "toc_visible": true,
      "include_colab_link": true
    },
    "kernelspec": {
      "display_name": "venv",
      "language": "python",
      "name": "python3"
    },
    "language_info": {
      "codemirror_mode": {
        "name": "ipython",
        "version": 3
      },
      "file_extension": ".py",
      "mimetype": "text/x-python",
      "name": "python",
      "nbconvert_exporter": "python",
      "pygments_lexer": "ipython3",
      "version": "3.11.5"
    },
    "orig_nbformat": 4
  },
  "nbformat": 4,
  "nbformat_minor": 0
}