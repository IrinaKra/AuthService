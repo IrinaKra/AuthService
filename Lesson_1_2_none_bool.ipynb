{
  "cells": [
    {
      "cell_type": "markdown",
      "metadata": {
        "id": "view-in-github",
        "colab_type": "text"
      },
      "source": [
        "<a href=\"https://colab.research.google.com/github/IrinaKra/AuthService/blob/master/Lesson_1_2_none_bool.ipynb\" target=\"_parent\"><img src=\"https://colab.research.google.com/assets/colab-badge.svg\" alt=\"Open In Colab\"/></a>"
      ]
    },
    {
      "cell_type": "markdown",
      "metadata": {
        "id": "o9YnKMAATEYb"
      },
      "source": [
        "## Boolean\n",
        "\n",
        "Boolean values are a way of representing two possible states: true and false. In Python, the True and False keywords are used to represent these two states. For example, we might use a Boolean value to represent whether a light is turned on or off:"
      ]
    },
    {
      "cell_type": "code",
      "execution_count": null,
      "metadata": {
        "id": "HU8sDRCITEYc"
      },
      "outputs": [],
      "source": [
        "light_is_on = True"
      ]
    },
    {
      "cell_type": "markdown",
      "metadata": {
        "id": "HLpj5bk7TEYd"
      },
      "source": [
        "We can also use Boolean values to represent the result of a comparison between two values. For example, we might compare two numbers to see if one is greater than the other:"
      ]
    },
    {
      "cell_type": "code",
      "execution_count": null,
      "metadata": {
        "id": "QJ7D9CVBTEYd"
      },
      "outputs": [],
      "source": [
        "x = 5\n",
        "y = 10\n",
        "is_x_greater_than_y = x > y"
      ]
    },
    {
      "cell_type": "code",
      "execution_count": null,
      "metadata": {
        "colab": {
          "base_uri": "https://localhost:8080/",
          "height": 144
        },
        "id": "m7Gs5LzGTEYd",
        "outputId": "d4869ae0-63f9-4789-917c-b87fc7b15b2c"
      },
      "outputs": [
        {
          "output_type": "error",
          "ename": "NameError",
          "evalue": "name 'is_x_greater_than_y' is not defined",
          "traceback": [
            "\u001b[0;31m---------------------------------------------------------------------------\u001b[0m",
            "\u001b[0;31mNameError\u001b[0m                                 Traceback (most recent call last)",
            "\u001b[0;32m/tmp/ipython-input-3-4072447249.py\u001b[0m in \u001b[0;36m<cell line: 0>\u001b[0;34m()\u001b[0m\n\u001b[0;32m----> 1\u001b[0;31m \u001b[0mis_x_greater_than_y\u001b[0m\u001b[0;34m\u001b[0m\u001b[0;34m\u001b[0m\u001b[0m\n\u001b[0m",
            "\u001b[0;31mNameError\u001b[0m: name 'is_x_greater_than_y' is not defined"
          ]
        }
      ],
      "source": [
        "is_x_greater_than_y"
      ]
    },
    {
      "cell_type": "code",
      "execution_count": null,
      "metadata": {
        "id": "X3xPUQM0TEYe"
      },
      "outputs": [],
      "source": [
        "x = 300\n",
        "y = 300\n",
        "\n",
        "is_x_equal_to_y = x == y"
      ]
    },
    {
      "cell_type": "code",
      "execution_count": null,
      "metadata": {
        "id": "a_6RUMpmTEYe",
        "outputId": "d18da5f7-e151-42d8-fa90-1acd625ea156"
      },
      "outputs": [
        {
          "name": "stdout",
          "output_type": "stream",
          "text": [
            "False\n"
          ]
        }
      ],
      "source": [
        "x = 300\n",
        "y = 300\n",
        "\n",
        "is_x_is_y = x is y\n",
        "print(is_x_is_y)"
      ]
    },
    {
      "cell_type": "code",
      "execution_count": null,
      "metadata": {
        "id": "ZZcCUlEmTEYe",
        "outputId": "02aecd39-7cc7-41ed-cbf2-60fc7dd6c70b"
      },
      "outputs": [
        {
          "name": "stdout",
          "output_type": "stream",
          "text": [
            "False\n",
            "True\n",
            "False\n"
          ]
        }
      ],
      "source": [
        "print(3 != 3)\n",
        "print(3 > 2)\n",
        "print(2 >= 3)"
      ]
    },
    {
      "cell_type": "code",
      "execution_count": null,
      "metadata": {
        "id": "yaXj-8I5TEYe",
        "outputId": "3b19a30c-39ea-447e-84d0-ebb857ef5cb9"
      },
      "outputs": [
        {
          "data": {
            "text/plain": [
              "bool"
            ]
          },
          "execution_count": 6,
          "metadata": {},
          "output_type": "execute_result"
        }
      ],
      "source": [
        "type(10 > 9)"
      ]
    },
    {
      "cell_type": "markdown",
      "metadata": {
        "id": "FxCPzFBxTEYf"
      },
      "source": [
        "### bool function"
      ]
    },
    {
      "cell_type": "code",
      "execution_count": null,
      "metadata": {
        "colab": {
          "base_uri": "https://localhost:8080/"
        },
        "id": "Y8ynqZcHTEYf",
        "outputId": "c14f0c63-c188-43e3-a98b-d5e7f153e864"
      },
      "outputs": [
        {
          "output_type": "execute_result",
          "data": {
            "text/plain": [
              "False"
            ]
          },
          "metadata": {},
          "execution_count": 2
        }
      ],
      "source": [
        "bool(0)"
      ]
    },
    {
      "cell_type": "markdown",
      "metadata": {
        "id": "nBAlirJWTEYf"
      },
      "source": [
        "| True  | False |\n",
        "| --- | -- |\n",
        "| Non-empty values | Empty values |\n",
        "| | None|\n",
        "| 1 | 0 |\n",
        "| 3.4 | 0.0 |\n",
        "| \"abc\" | \"\" |\n",
        "| [1, 2, 3] | [] |"
      ]
    },
    {
      "cell_type": "markdown",
      "metadata": {
        "id": "CL6xpMPcTEYf"
      },
      "source": [
        "## None\n",
        "\n",
        "In Python, None is a special value that represents the absence of a value. It's often used to indicate that a variable or function has no value or is uninitialized."
      ]
    },
    {
      "cell_type": "code",
      "execution_count": null,
      "metadata": {
        "id": "UOSRERFXTEYf"
      },
      "outputs": [],
      "source": [
        "None"
      ]
    },
    {
      "cell_type": "code",
      "execution_count": null,
      "metadata": {
        "id": "4KUoOx-5TEYf",
        "outputId": "b197445e-06a4-450e-effe-5b09d0503469"
      },
      "outputs": [
        {
          "data": {
            "text/plain": [
              "NoneType"
            ]
          },
          "execution_count": 11,
          "metadata": {},
          "output_type": "execute_result"
        }
      ],
      "source": [
        "type(None)"
      ]
    },
    {
      "cell_type": "code",
      "execution_count": null,
      "metadata": {
        "id": "9hV8N6OQTEYf",
        "outputId": "3b2c5122-3036-4661-b6e0-8c6a36bcc78e"
      },
      "outputs": [
        {
          "ename": "NameError",
          "evalue": "name 'none' is not defined",
          "output_type": "error",
          "traceback": [
            "\u001b[0;31m---------------------------------------------------------------------------\u001b[0m",
            "\u001b[0;31mNameError\u001b[0m                                 Traceback (most recent call last)",
            "\u001b[0;32m/var/folders/2y/fwkg4hxs6sv3hs3cyysgs0yw0000gn/T/ipykernel_57926/3066672320.py\u001b[0m in \u001b[0;36m<module>\u001b[0;34m\u001b[0m\n\u001b[0;32m----> 1\u001b[0;31m \u001b[0mnone\u001b[0m\u001b[0;34m(\u001b[0m\u001b[0;36m5\u001b[0m\u001b[0;34m)\u001b[0m\u001b[0;34m\u001b[0m\u001b[0;34m\u001b[0m\u001b[0m\n\u001b[0m",
            "\u001b[0;31mNameError\u001b[0m: name 'none' is not defined"
          ]
        }
      ],
      "source": [
        "none(5)"
      ]
    },
    {
      "cell_type": "markdown",
      "metadata": {
        "id": "q62OWfJ6TEYf"
      },
      "source": [
        "## Practice:\n",
        "\n",
        "1. Guess result of expression without executing it:\n",
        "\n",
        "    - 1 <= 1\n",
        "    - 1 != 1\n",
        "    - 1 != 2\n",
        "\n",
        "2. Make all of them true.\n",
        "    \n",
        "    - 3 __ 4\n",
        "    - 10 __ 5\n",
        "    - 42 __ \"42\""
      ]
    },
    {
      "cell_type": "markdown",
      "metadata": {
        "id": "rSvJzADeTEYf"
      },
      "source": [
        "## Materials\n",
        "\n",
        "### None\n",
        "1. https://realpython.com/null-in-python/\n",
        "\n",
        "### Boolean\n",
        "1. https://realpython.com/python-operators-expressions/#logical-operators\n",
        "2. https://realpython.com/python-boolean/"
      ]
    }
  ],
  "metadata": {
    "kernelspec": {
      "display_name": "Python 3.9.13 64-bit",
      "language": "python",
      "name": "python3"
    },
    "language_info": {
      "codemirror_mode": {
        "name": "ipython",
        "version": 3
      },
      "file_extension": ".py",
      "mimetype": "text/x-python",
      "name": "python",
      "nbconvert_exporter": "python",
      "pygments_lexer": "ipython3",
      "version": "3.9.16"
    },
    "orig_nbformat": 4,
    "vscode": {
      "interpreter": {
        "hash": "397704579725e15f5c7cb49fe5f0341eb7531c82d19f2c29d197e8b64ab5776b"
      }
    },
    "colab": {
      "provenance": [],
      "toc_visible": true,
      "include_colab_link": true
    }
  },
  "nbformat": 4,
  "nbformat_minor": 0
}